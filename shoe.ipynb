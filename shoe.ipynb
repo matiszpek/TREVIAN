{
 "cells": [
  {
   "cell_type": "code",
   "execution_count": null,
   "id": "2d308965",
   "metadata": {},
   "outputs": [],
   "source": [
    "!py -m pip install open3d trimesh numpy scikit-learn"
   ]
  },
  {
   "cell_type": "code",
   "execution_count": 32,
   "id": "742adb9e",
   "metadata": {},
   "outputs": [],
   "source": [
    "#open3d to visualize\n",
    "import trimesh\n",
    "\n",
    "load_mesh = trimesh.load_mesh('pie_escaneado.stl')\n",
    "#open3d to visualize\n",
    "import open3d as o3d\n",
    "def visualize_mesh(mesh):\n",
    "    o3d_mesh = o3d.geometry.TriangleMesh()\n",
    "    o3d_mesh.vertices = o3d.utility.Vector3dVector(mesh.vertices)\n",
    "    o3d_mesh.triangles = o3d.utility.Vector3iVector(mesh.faces)\n",
    "    o3d_mesh.compute_vertex_normals()\n",
    "    o3d.visualization.draw_geometries([o3d_mesh])\n",
    "\n",
    "visualize_mesh(load_mesh)"
   ]
  },
  {
   "cell_type": "code",
   "execution_count": 48,
   "id": "1e44c016",
   "metadata": {},
   "outputs": [],
   "source": [
    "# !pip install trimesh\n",
    "path = \"foot.stl\"\n",
    "\n",
    "import trimesh\n",
    "import numpy as np\n",
    "\n",
    "# Load the mesh\n",
    "mesh = trimesh.load(path)\n",
    "\n",
    "# plot cloud point\n",
    "cloud = mesh.sample(1000)  # Sample 1000 points from the mesh\n",
    "# %pip install open3d\n",
    "import open3d as o3d\n",
    "\n",
    "def plot_cloud(cloud):\n",
    "    pcd = o3d.geometry.PointCloud()\n",
    "    pcd.points = o3d.utility.Vector3dVector(cloud)\n",
    "    # Create coordinate frame\n",
    "    axis = o3d.geometry.TriangleMesh.create_coordinate_frame(size=20, origin=[0, 0, 0])\n",
    "    o3d.visualization.draw_geometries([pcd, axis])\n",
    "\n",
    "plot_cloud(cloud)\n",
    "\n",
    "# mesh.vertices -= mesh.center_mass\n",
    "\n",
    "from sklearn.decomposition import PCA\n",
    "\n",
    "# centered_points = mesh.vertices - np.mean(mesh.vertices, axis=0)  # Center the points around the origin\n",
    "centered_points = mesh.vertices - mesh.center_mass  # Center the points around the mesh center of mass\n",
    "\n",
    "pca = PCA(n_components=3)\n",
    "pca.fit(centered_points)\n",
    "basis_vectors = pca.components_  # shape (3, 3)\n",
    "\n",
    "# Transform the points to the PCA basis\n",
    "transformed_points = centered_points @ basis_vectors.T  # shape (n, 3)\n",
    "# Plot the transformed points\n",
    "plot_cloud(transformed_points)"
   ]
  },
  {
   "cell_type": "code",
   "execution_count": 49,
   "id": "74667f6a",
   "metadata": {},
   "outputs": [],
   "source": [
    "plot_cloud(transformed_points)"
   ]
  },
  {
   "cell_type": "code",
   "execution_count": 35,
   "id": "4990fc3c",
   "metadata": {},
   "outputs": [],
   "source": [
    "\n",
    "pcd = o3d.geometry.PointCloud()\n",
    "pcd.points = o3d.utility.Vector3dVector(centered_points)\n"
   ]
  },
  {
   "cell_type": "code",
   "execution_count": 39,
   "id": "74605684",
   "metadata": {},
   "outputs": [
    {
     "data": {
      "text/plain": [
       "PointCloud with 55460 points."
      ]
     },
     "execution_count": 39,
     "metadata": {},
     "output_type": "execute_result"
    }
   ],
   "source": [
    "pcd"
   ]
  },
  {
   "cell_type": "code",
   "execution_count": 41,
   "id": "ce79ef21",
   "metadata": {},
   "outputs": [
    {
     "data": {
      "text/plain": [
       "trimesh.caching.TrackedArray"
      ]
     },
     "execution_count": 41,
     "metadata": {},
     "output_type": "execute_result"
    }
   ],
   "source": [
    "type(transformed_points)"
   ]
  },
  {
   "cell_type": "code",
   "execution_count": 50,
   "id": "4b839a55",
   "metadata": {},
   "outputs": [],
   "source": [
    "# unir puntos rotados y pasar a formato stl como nueva malla rotada\n",
    "rotated_mesh = trimesh.Trimesh(vertices=transformed_points, faces=mesh.faces)\n",
    "# Save the rotated mesh to a new STL file\n",
    "rotated_mesh.export('rotated_foot.stl')\n",
    "# Visualize the rotated mesh\n",
    "visualize_mesh(rotated_mesh)\n"
   ]
  },
  {
   "cell_type": "code",
   "execution_count": null,
   "id": "90f440c6",
   "metadata": {},
   "outputs": [
    {
     "name": "stdout",
     "output_type": "stream",
     "text": [
      "Cargando el modelo...\n"
     ]
    },
    {
     "ename": "TypeError",
     "evalue": "_dump() got an unexpected keyword argument 'concatenate'",
     "output_type": "error",
     "traceback": [
      "\u001b[31m---------------------------------------------------------------------------\u001b[39m",
      "\u001b[31mTypeError\u001b[39m                                 Traceback (most recent call last)",
      "\u001b[36mCell\u001b[39m\u001b[36m \u001b[39m\u001b[32mIn[44]\u001b[39m\u001b[32m, line 13\u001b[39m\n\u001b[32m     11\u001b[39m mesh = transformed_points \u001b[38;5;66;03m#trimesh.load(ruta_stl)\u001b[39;00m\n\u001b[32m     12\u001b[39m \u001b[38;5;28;01mif\u001b[39;00m \u001b[38;5;129;01mnot\u001b[39;00m \u001b[38;5;28misinstance\u001b[39m(mesh, trimesh.Trimesh):\n\u001b[32m---> \u001b[39m\u001b[32m13\u001b[39m     mesh = \u001b[43mmesh\u001b[49m\u001b[43m.\u001b[49m\u001b[43mdump\u001b[49m\u001b[43m(\u001b[49m\u001b[43mconcatenate\u001b[49m\u001b[43m=\u001b[49m\u001b[38;5;28;43;01mTrue\u001b[39;49;00m\u001b[43m)\u001b[49m\n\u001b[32m     15\u001b[39m \u001b[38;5;28mprint\u001b[39m(\u001b[33mf\u001b[39m\u001b[33m\"\u001b[39m\u001b[33mNúmero de caras en la malla original: \u001b[39m\u001b[38;5;132;01m{\u001b[39;00m\u001b[38;5;28mlen\u001b[39m(mesh.faces)\u001b[38;5;132;01m}\u001b[39;00m\u001b[33m\"\u001b[39m)\n\u001b[32m     17\u001b[39m \u001b[38;5;66;03m# === CALCULAR NORMALES ===\u001b[39;00m\n",
      "\u001b[31mTypeError\u001b[39m: _dump() got an unexpected keyword argument 'concatenate'"
     ]
    }
   ],
   "source": [
    "import trimesh\n",
    "import numpy as np\n",
    "\n",
    "# === CONFIGURACIÓN ===\n",
    "ruta_stl = \"/rotated_foot.stl\"\n",
    "umbral_normal = 0.7  # Coseno del ángulo con el eje Z negativo\n",
    "porcentaje_z = 15  # Parte inferior del modelo (en %)\n",
    "\n",
    "# === CARGAR MALLA ===\n",
    "print(\"Cargando el modelo...\")\n",
    "mesh = trimesh.load(ruta_stl)\n",
    "if not isinstance(mesh, trimesh.Trimesh):\n",
    "    mesh = mesh.dump(concatenate=True)\n",
    "\n",
    "print(f\"Número de caras en la malla original: {len(mesh.faces)}\")\n",
    "\n",
    "# === CALCULAR NORMALES ===\n",
    "face_normals = mesh.face_normals\n",
    "z_down = np.array([0, 0, -1])\n",
    "dot_products = face_normals @ z_down  # Producto punto entre normal y -Z\n",
    "\n",
    "# === FILTRO POR DIRECCIÓN DE NORMAL ===\n",
    "indices_por_normal = np.where(dot_products > umbral_normal)[0]\n",
    "print(f\"Caras que apuntan hacia abajo: {len(indices_por_normal)}\")\n",
    "\n",
    "\"\"\" # === FILTRO POR POSICIÓN Z ===\n",
    "centros_caras = mesh.triangles_center\n",
    "z_coords = centros_caras[:, 2]\n",
    "umbral_z = np.percentile(z_coords, porcentaje_z)\n",
    "indices_por_z = np.where(z_coords < umbral_z)[0]\n",
    "print(f\"Caras en el {porcentaje_z}% inferior del modelo: {len(indices_por_z)}\")\n",
    "\n",
    "# === COMBINAR AMBOS FILTROS ===\n",
    "indices_finales = np.intersect1d(indices_por_normal, indices_por_z)\n",
    "print(f\"Caras que cumplen ambos criterios: {len(indices_finales)}\")\n",
    "\"\"\"\n",
    "\n",
    "indices_finales = indices_por_normal\n",
    "\n",
    "# === CREAR NUEVA MALLA ===\n",
    "if len(indices_finales) == 0:\n",
    "    print(\"⚠️ No se encontraron caras que cumplan los criterios. Ajusta los umbrales.\")\n",
    "else:\n",
    "    nueva_malla = trimesh.Trimesh(\n",
    "        vertices=mesh.vertices, faces=mesh.faces[indices_finales], process=False\n",
    "    )\n",
    "\n",
    "    # === GUARDAR O VISUALIZAR ===\n",
    "    nueva_malla.export(\"planta_pie.stl\")\n",
    "    print(\"✅ Planta del pie exportada como 'planta_pie.stl'\")\n",
    "#    nueva_malla.show()"
   ]
  },
  {
   "cell_type": "code",
   "execution_count": null,
   "id": "95ff333a",
   "metadata": {},
   "outputs": [],
   "source": [
    "# con la planta del pie, extruyo hacia abajo\n",
    "extrusion_depth = 10  # Profundidad de extrusión en mm\n",
    "extruded_mesh = nueva_malla.extrude(\n",
    "    direction=[0, 0, -1], distance=extrusion_depth, process=False\n",
    ")\n",
    "\n",
    "#aplano a 0 el eje z de la extrusión\n",
    "extruded_mesh.vertices[:, 2] = 0\n",
    "\n",
    "#visualizar el nuevo mesh extruido\n",
    "visualize_mesh(extruded_mesh)"
   ]
  }
 ],
 "metadata": {
  "kernelspec": {
   "display_name": ".venv",
   "language": "python",
   "name": "python3"
  },
  "language_info": {
   "codemirror_mode": {
    "name": "ipython",
    "version": 3
   },
   "file_extension": ".py",
   "mimetype": "text/x-python",
   "name": "python",
   "nbconvert_exporter": "python",
   "pygments_lexer": "ipython3",
   "version": "3.11.0"
  }
 },
 "nbformat": 4,
 "nbformat_minor": 5
}
